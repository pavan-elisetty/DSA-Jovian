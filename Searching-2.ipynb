{
  "nbformat": 4,
  "nbformat_minor": 0,
  "metadata": {
    "colab": {
      "name": "Searching-adv.ipynb",
      "provenance": [],
      "authorship_tag": "ABX9TyNjGWtJEQia1a5CGpFLGxRf",
      "include_colab_link": true
    },
    "kernelspec": {
      "name": "python3",
      "display_name": "Python 3"
    }
  },
  "cells": [
    {
      "cell_type": "markdown",
      "metadata": {
        "id": "view-in-github",
        "colab_type": "text"
      },
      "source": [
        "<a href=\"https://colab.research.google.com/github/pavan-elisetty/DSA-Jovian/blob/main/Searching-2.ipynb\" target=\"_parent\"><img src=\"https://colab.research.google.com/assets/colab-badge.svg\" alt=\"Open In Colab\"/></a>"
      ]
    },
    {
      "cell_type": "code",
      "metadata": {
        "id": "oxT2U--iXUiX"
      },
      "source": [
        "class Solution:\r\n",
        "    def search(self, nums: List[int], target: int) -> int:\r\n",
        "      "
      ],
      "execution_count": null,
      "outputs": []
    }
  ]
}