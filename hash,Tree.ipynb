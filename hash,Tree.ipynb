{
  "nbformat": 4,
  "nbformat_minor": 0,
  "metadata": {
    "colab": {
      "name": "hash,Tree.ipynb",
      "provenance": [],
      "collapsed_sections": [],
      "authorship_tag": "ABX9TyMs7+LpL6zRIUw3NKDQJ3/a",
      "include_colab_link": true
    },
    "kernelspec": {
      "name": "python3",
      "display_name": "Python 3"
    },
    "language_info": {
      "name": "python"
    }
  },
  "cells": [
    {
      "cell_type": "markdown",
      "metadata": {
        "id": "view-in-github",
        "colab_type": "text"
      },
      "source": [
        "<a href=\"https://colab.research.google.com/github/pavan-elisetty/DSA-Jovian/blob/main/hash%2CTree.ipynb\" target=\"_parent\"><img src=\"https://colab.research.google.com/assets/colab-badge.svg\" alt=\"Open In Colab\"/></a>"
      ]
    },
    {
      "cell_type": "code",
      "metadata": {
        "id": "AYKAGRxQUtgU"
      },
      "source": [
        "# hashing -- primarly used in dict O(n) \n",
        "# dictionary in python is the python specific implementation of hash map"
      ],
      "execution_count": null,
      "outputs": []
    },
    {
      "cell_type": "code",
      "metadata": {
        "id": "NhY0tZvHUtcj"
      },
      "source": [
        "# implementing a hash function\n",
        "def get_hash(key):    #this hash function uses the ascii values and its sum\n",
        "  h=0\n",
        "  for i in key:\n",
        "    h+=ord(i)\n",
        "  return h%100"
      ],
      "execution_count": null,
      "outputs": []
    },
    {
      "cell_type": "code",
      "metadata": {
        "colab": {
          "base_uri": "https://localhost:8080/"
        },
        "id": "W8Y9oDmWUtZR",
        "outputId": "3f092774-d596-4a07-939d-23ebae41a545"
      },
      "source": [
        "get_hash('Sumtng')"
      ],
      "execution_count": null,
      "outputs": [
        {
          "output_type": "execute_result",
          "data": {
            "text/plain": [
              "38"
            ]
          },
          "metadata": {
            "tags": []
          },
          "execution_count": 2
        }
      ]
    },
    {
      "cell_type": "code",
      "metadata": {
        "id": "LI2XDFOMUtGJ"
      },
      "source": [
        "# implementing the hash table\n",
        "\n",
        "class HashTable:\n",
        "\n",
        "  def __init__(self):\n",
        "    self.Max = 100\n",
        "    self.arr = [None for i in range(self.Max)]\n",
        "  \n",
        "  def get_hash(self,key):   \n",
        "    h=0\n",
        "    for i in key:\n",
        "      h+=ord(i)\n",
        "    return h%self.Max\n",
        "  \n",
        "  def add(self,key,val):\n",
        "    self.arr[self.get_hash(key)]=val\n",
        "  \n",
        "  def get(self,key):\n",
        "    return self.arr[self.get_hash(key)]\n",
        "\n",
        "\n",
        "  "
      ],
      "execution_count": null,
      "outputs": []
    },
    {
      "cell_type": "code",
      "metadata": {
        "id": "b11ysOl88r7f"
      },
      "source": [
        "t = HashTable()"
      ],
      "execution_count": null,
      "outputs": []
    },
    {
      "cell_type": "code",
      "metadata": {
        "id": "BNtOnmBF8r4H"
      },
      "source": [
        "t.add('pavan',100)"
      ],
      "execution_count": null,
      "outputs": []
    },
    {
      "cell_type": "code",
      "metadata": {
        "colab": {
          "base_uri": "https://localhost:8080/"
        },
        "id": "CuW19BwS8r1y",
        "outputId": "7d4a5666-6129-462b-f3f8-643cb404b056"
      },
      "source": [
        "t.get('pavan')"
      ],
      "execution_count": null,
      "outputs": [
        {
          "output_type": "execute_result",
          "data": {
            "text/plain": [
              "100"
            ]
          },
          "metadata": {
            "tags": []
          },
          "execution_count": 12
        }
      ]
    },
    {
      "cell_type": "code",
      "metadata": {
        "id": "z6yVOHNHAmLr"
      },
      "source": [
        "# collision concepts ignored"
      ],
      "execution_count": null,
      "outputs": []
    },
    {
      "cell_type": "code",
      "metadata": {
        "id": "kCBAkcbA8rzL"
      },
      "source": [
        "# implementing the hash table with py inbuilt operators\n",
        "\n",
        "class HashTable:\n",
        "\n",
        "  def __init__(self):\n",
        "    self.Max = 100\n",
        "    self.arr = [None for i in range(self.Max)]\n",
        "  \n",
        "  def get_hash(self,key):   \n",
        "    h=0\n",
        "    for i in key:\n",
        "      h+=ord(i)\n",
        "    return h%self.Max\n",
        "  \n",
        "  def __setitem__(self,key,val):\n",
        "    self.arr[self.get_hash(key)]=val\n",
        "  \n",
        "  def __getitem__(self,key):\n",
        "    return self.arr[self.get_hash(key)]\n",
        "\n",
        "  def __delitem__(self,key):\n",
        "    h = self.get_hash(key)\n",
        "    self.arr[h]=None\n",
        "\n"
      ],
      "execution_count": null,
      "outputs": []
    },
    {
      "cell_type": "code",
      "metadata": {
        "colab": {
          "base_uri": "https://localhost:8080/"
        },
        "id": "OkhHxNd78rw0",
        "outputId": "877d7fa9-eb3a-48a2-84d1-194940f22dc9"
      },
      "source": [
        "t=HashTable()\n",
        "t['Hello']=123\n",
        "t['Hello']"
      ],
      "execution_count": null,
      "outputs": [
        {
          "output_type": "execute_result",
          "data": {
            "text/plain": [
              "123"
            ]
          },
          "metadata": {
            "tags": []
          },
          "execution_count": 17
        }
      ]
    },
    {
      "cell_type": "code",
      "metadata": {
        "id": "2-KWJoGI8ruN"
      },
      "source": [
        "del t['Hello']"
      ],
      "execution_count": null,
      "outputs": []
    },
    {
      "cell_type": "code",
      "metadata": {
        "colab": {
          "base_uri": "https://localhost:8080/"
        },
        "id": "JnUIzuEF8rr_",
        "outputId": "0fea1d38-f5be-40ef-8d79-bcd57c621eb8"
      },
      "source": [
        "print(t['Hello'])"
      ],
      "execution_count": null,
      "outputs": [
        {
          "output_type": "stream",
          "text": [
            "None\n"
          ],
          "name": "stdout"
        }
      ]
    },
    {
      "cell_type": "code",
      "metadata": {
        "id": "oZFxhTT-8rbW"
      },
      "source": [
        "# a general tree \n",
        "class TreeNode:\n",
        "  def __init__(self,data):\n",
        "    self.data = data\n",
        "    self.children = []\n",
        "    self.parent = None\n",
        "\n",
        "  def add_child(self,child):\n",
        "    self.parent = self\n",
        "    self.children.append(child)\n",
        "\n",
        "  def get_level(self):\n",
        "    level=0\n",
        "    p = self.parent\n",
        "    while p:\n",
        "      level+=0\n",
        "      p = p.parent\n",
        "    return level\n",
        "  \n",
        "  def print_tree(self):\n",
        "    spaces = ' '+self.get_level()\n",
        "    prefix = spaces+\"|__\" if self.parent else \"\"\n",
        "    print(spaces+self.data)\n",
        "    if self.children:\n",
        "      for child in self.children:\n",
        "        #print(child.data)   #this prints only a particular node children\n",
        "        child.print_tree()   #this recursively prints all the nodes children"
      ],
      "execution_count": null,
      "outputs": []
    },
    {
      "cell_type": "code",
      "metadata": {
        "id": "AOaXh3eTDdVM"
      },
      "source": [
        "# a general binary tree\n",
        "\n",
        "class Node:\n",
        "  def __init__(self,val):\n",
        "    self.val = val\n",
        "    self.left = None\n",
        "    self.right= None\n",
        "  \n",
        "  def __repr__(self):\n",
        "    return \"Node val is \"+str(self.val)\n"
      ],
      "execution_count": null,
      "outputs": []
    },
    {
      "cell_type": "code",
      "metadata": {
        "id": "tBII_28ADr-h"
      },
      "source": [
        "#creating a root node\n",
        "\n",
        "root = Node(0)"
      ],
      "execution_count": null,
      "outputs": []
    },
    {
      "cell_type": "code",
      "metadata": {
        "id": "1r5OnwjtDw08"
      },
      "source": [
        "root.left = Node(1)\n",
        "root.right = Node(2)\n",
        "root.left.left = Node(3)\n",
        "root.left.right = Node(4)"
      ],
      "execution_count": null,
      "outputs": []
    },
    {
      "cell_type": "code",
      "metadata": {
        "colab": {
          "base_uri": "https://localhost:8080/"
        },
        "id": "FVcqSCKHEWEt",
        "outputId": "ebadc96a-f8fb-4099-eb29-97be764a218b"
      },
      "source": [
        "root"
      ],
      "execution_count": null,
      "outputs": [
        {
          "output_type": "execute_result",
          "data": {
            "text/plain": [
              "Node val is 0"
            ]
          },
          "metadata": {
            "tags": []
          },
          "execution_count": 17
        }
      ]
    },
    {
      "cell_type": "code",
      "metadata": {
        "id": "qXEutVDiTJeA"
      },
      "source": [
        "# binary search tree , it cannot have duplicate elements\n",
        "\n",
        "class BinarySearchTreeNode:\n",
        "  def __init__(self , data):\n",
        "    self.data = data\n",
        "    self.left = None\n",
        "    self.right = None\n",
        "\n",
        "\n",
        "  def add_child(self,data):\n",
        "\n",
        "    if data == self.data:   # cannot have duplicates\n",
        "      return \n",
        "\n",
        "    if data < self.data:   # adding in left subtree\n",
        "      if self.left: # checking if left has something in it\n",
        "        self.left.add_child(data)\n",
        "      else:\n",
        "        self.left = BinarySearchTreeNode(data)\n",
        "\n",
        "    else:                 # adding in right subtree\n",
        "      if self.right:\n",
        "        self.right.add_child(data)\n",
        "      else:\n",
        "        self.right = BinarySearchTreeNode(data)\n",
        "\n",
        "\n",
        "\n",
        "  def in_order_traversal(self):\n",
        "    elements = []\n",
        "\n",
        "    #visit left tree\n",
        "    if self.left:\n",
        "      elements += self.left.in_order_traversal()\n",
        "\n",
        "    #visit base node\n",
        "    elements.append(self.data)\n",
        "\n",
        "    #visit right tree\n",
        "    if self.right:\n",
        "      elements += self.right.in_order_traversal()\n",
        "\n",
        "    return elements\n",
        "\n",
        "  def search(self,key):\n",
        "    if self.data == key:\n",
        "      return True\n",
        "    \n",
        "    if key<self.data:\n",
        "      if self.left:\n",
        "        return self.left.search(key)\n",
        "      else:\n",
        "        return False\n",
        "    if key>self.data:\n",
        "      if self.right:\n",
        "        return self.right.search(key)\n",
        "      else:\n",
        "        return False\n",
        "\n",
        "\n",
        "\n",
        "\n",
        "def build_tree(elements):\n",
        "\n",
        "  root = BinarySearchTreeNode(elements[0])\n",
        "  for i in range(1,len(elements)):\n",
        "    root.add_child(elements[i])\n",
        "  return root\n",
        "  \n"
      ],
      "execution_count": 12,
      "outputs": []
    },
    {
      "cell_type": "code",
      "metadata": {
        "colab": {
          "base_uri": "https://localhost:8080/"
        },
        "id": "KSGCULLAKwzN",
        "outputId": "f1cad7f9-b528-4f24-f42b-66b4b01df65f"
      },
      "source": [
        "numbers = [17,4,1,20,9,23,18,34]\n",
        "numbers_tree = build_tree(numbers)\n",
        "print(numbers_tree.in_order_traversal())"
      ],
      "execution_count": 13,
      "outputs": [
        {
          "output_type": "stream",
          "text": [
            "[1, 4, 9, 17, 18, 20, 23, 34]\n"
          ],
          "name": "stdout"
        }
      ]
    },
    {
      "cell_type": "code",
      "metadata": {
        "colab": {
          "base_uri": "https://localhost:8080/"
        },
        "id": "Ff-j9HUnMC0O",
        "outputId": "8b272829-6d70-423d-b73d-9f16b99736c8"
      },
      "source": [
        "numbers_tree.search(17)"
      ],
      "execution_count": 14,
      "outputs": [
        {
          "output_type": "execute_result",
          "data": {
            "text/plain": [
              "True"
            ]
          },
          "metadata": {
            "tags": []
          },
          "execution_count": 14
        }
      ]
    },
    {
      "cell_type": "code",
      "metadata": {
        "id": "_SLqI5gIMZqA"
      },
      "source": [
        ""
      ],
      "execution_count": null,
      "outputs": []
    }
  ]
}