{
  "nbformat": 4,
  "nbformat_minor": 0,
  "metadata": {
    "colab": {
      "name": "hash,Tree.ipynb",
      "provenance": [],
      "collapsed_sections": [],
      "authorship_tag": "ABX9TyO3waUSHeRxMppM3/cAgX4d",
      "include_colab_link": true
    },
    "kernelspec": {
      "name": "python3",
      "display_name": "Python 3"
    },
    "language_info": {
      "name": "python"
    }
  },
  "cells": [
    {
      "cell_type": "markdown",
      "metadata": {
        "id": "view-in-github",
        "colab_type": "text"
      },
      "source": [
        "<a href=\"https://colab.research.google.com/github/pavan-elisetty/DSA-Jovian/blob/main/hash%2CTree.ipynb\" target=\"_parent\"><img src=\"https://colab.research.google.com/assets/colab-badge.svg\" alt=\"Open In Colab\"/></a>"
      ]
    },
    {
      "cell_type": "code",
      "metadata": {
        "id": "AYKAGRxQUtgU"
      },
      "source": [
        "# hashing -- primarly used in dict O(n) \n",
        "# dictionary in python is the python specific implementation of hash map"
      ],
      "execution_count": null,
      "outputs": []
    },
    {
      "cell_type": "code",
      "metadata": {
        "id": "NhY0tZvHUtcj"
      },
      "source": [
        "# implementing a hash function\n",
        "def get_hash(key):    #this hash function uses the ascii values and its sum\n",
        "  h=0\n",
        "  for i in key:\n",
        "    h+=ord(i)\n",
        "  return h%100"
      ],
      "execution_count": 1,
      "outputs": []
    },
    {
      "cell_type": "code",
      "metadata": {
        "colab": {
          "base_uri": "https://localhost:8080/"
        },
        "id": "W8Y9oDmWUtZR",
        "outputId": "3f092774-d596-4a07-939d-23ebae41a545"
      },
      "source": [
        "get_hash('Sumtng')"
      ],
      "execution_count": 2,
      "outputs": [
        {
          "output_type": "execute_result",
          "data": {
            "text/plain": [
              "38"
            ]
          },
          "metadata": {
            "tags": []
          },
          "execution_count": 2
        }
      ]
    },
    {
      "cell_type": "code",
      "metadata": {
        "id": "LI2XDFOMUtGJ"
      },
      "source": [
        "# implementing the hash table\n",
        "\n",
        "class HashTable:\n",
        "\n",
        "  def __init__(self):\n",
        "    self.Max = 100\n",
        "    self.arr = [None for i in range(self.Max)]\n",
        "  \n",
        "  def get_hash(self,key):   \n",
        "    h=0\n",
        "    for i in key:\n",
        "      h+=ord(i)\n",
        "    return h%self.Max\n",
        "  \n",
        "  def add(self,key,val):\n",
        "    self.arr[self.get_hash(key)]=val\n",
        "  \n",
        "  def get(self,key):\n",
        "    return self.arr[self.get_hash(key)]\n",
        "\n",
        "\n",
        "  "
      ],
      "execution_count": 8,
      "outputs": []
    },
    {
      "cell_type": "code",
      "metadata": {
        "id": "b11ysOl88r7f"
      },
      "source": [
        "t = HashTable()"
      ],
      "execution_count": 9,
      "outputs": []
    },
    {
      "cell_type": "code",
      "metadata": {
        "id": "BNtOnmBF8r4H"
      },
      "source": [
        "t.add('pavan',100)"
      ],
      "execution_count": 11,
      "outputs": []
    },
    {
      "cell_type": "code",
      "metadata": {
        "colab": {
          "base_uri": "https://localhost:8080/"
        },
        "id": "CuW19BwS8r1y",
        "outputId": "7d4a5666-6129-462b-f3f8-643cb404b056"
      },
      "source": [
        "t.get('pavan')"
      ],
      "execution_count": 12,
      "outputs": [
        {
          "output_type": "execute_result",
          "data": {
            "text/plain": [
              "100"
            ]
          },
          "metadata": {
            "tags": []
          },
          "execution_count": 12
        }
      ]
    },
    {
      "cell_type": "code",
      "metadata": {
        "id": "z6yVOHNHAmLr"
      },
      "source": [
        "# collision concepts ignored"
      ],
      "execution_count": null,
      "outputs": []
    },
    {
      "cell_type": "code",
      "metadata": {
        "id": "kCBAkcbA8rzL"
      },
      "source": [
        "# implementing the hash table with py inbuilt operators\n",
        "\n",
        "class HashTable:\n",
        "\n",
        "  def __init__(self):\n",
        "    self.Max = 100\n",
        "    self.arr = [None for i in range(self.Max)]\n",
        "  \n",
        "  def get_hash(self,key):   \n",
        "    h=0\n",
        "    for i in key:\n",
        "      h+=ord(i)\n",
        "    return h%self.Max\n",
        "  \n",
        "  def __setitem__(self,key,val):\n",
        "    self.arr[self.get_hash(key)]=val\n",
        "  \n",
        "  def __getitem__(self,key):\n",
        "    return self.arr[self.get_hash(key)]\n",
        "\n",
        "  def __delitem__(self,key):\n",
        "    h = self.get_hash(key)\n",
        "    self.arr[h]=None\n",
        "\n"
      ],
      "execution_count": 16,
      "outputs": []
    },
    {
      "cell_type": "code",
      "metadata": {
        "colab": {
          "base_uri": "https://localhost:8080/"
        },
        "id": "OkhHxNd78rw0",
        "outputId": "877d7fa9-eb3a-48a2-84d1-194940f22dc9"
      },
      "source": [
        "t=HashTable()\n",
        "t['Hello']=123\n",
        "t['Hello']"
      ],
      "execution_count": 17,
      "outputs": [
        {
          "output_type": "execute_result",
          "data": {
            "text/plain": [
              "123"
            ]
          },
          "metadata": {
            "tags": []
          },
          "execution_count": 17
        }
      ]
    },
    {
      "cell_type": "code",
      "metadata": {
        "id": "2-KWJoGI8ruN"
      },
      "source": [
        "del t['Hello']"
      ],
      "execution_count": 18,
      "outputs": []
    },
    {
      "cell_type": "code",
      "metadata": {
        "colab": {
          "base_uri": "https://localhost:8080/"
        },
        "id": "JnUIzuEF8rr_",
        "outputId": "0fea1d38-f5be-40ef-8d79-bcd57c621eb8"
      },
      "source": [
        "print(t['Hello'])"
      ],
      "execution_count": 20,
      "outputs": [
        {
          "output_type": "stream",
          "text": [
            "None\n"
          ],
          "name": "stdout"
        }
      ]
    },
    {
      "cell_type": "code",
      "metadata": {
        "id": "HlbTvpN68rm3"
      },
      "source": [
        ""
      ],
      "execution_count": null,
      "outputs": []
    },
    {
      "cell_type": "code",
      "metadata": {
        "id": "oZFxhTT-8rbW"
      },
      "source": [
        ""
      ],
      "execution_count": null,
      "outputs": []
    },
    {
      "cell_type": "code",
      "metadata": {
        "id": "AOaXh3eTDdVM"
      },
      "source": [
        "# a general binary tree\n",
        "\n",
        "class Node:\n",
        "  def __init__(self,val):\n",
        "    self.val = val\n",
        "    self.left = None\n",
        "    self.right= None\n",
        "  \n",
        "  def __repr__(self):\n",
        "    return \"Node val is \"+str(self.val)\n"
      ],
      "execution_count": 14,
      "outputs": []
    },
    {
      "cell_type": "code",
      "metadata": {
        "id": "tBII_28ADr-h"
      },
      "source": [
        "#creating a root node\n",
        "\n",
        "root = Node(0)"
      ],
      "execution_count": 15,
      "outputs": []
    },
    {
      "cell_type": "code",
      "metadata": {
        "id": "1r5OnwjtDw08"
      },
      "source": [
        "root.left = Node(1)\n",
        "root.right = Node(2)\n",
        "root.left.left = Node(3)\n",
        "root.left.right = Node(4)"
      ],
      "execution_count": 16,
      "outputs": []
    },
    {
      "cell_type": "code",
      "metadata": {
        "colab": {
          "base_uri": "https://localhost:8080/"
        },
        "id": "FVcqSCKHEWEt",
        "outputId": "ebadc96a-f8fb-4099-eb29-97be764a218b"
      },
      "source": [
        "root"
      ],
      "execution_count": 17,
      "outputs": [
        {
          "output_type": "execute_result",
          "data": {
            "text/plain": [
              "Node val is 0"
            ]
          },
          "metadata": {
            "tags": []
          },
          "execution_count": 17
        }
      ]
    },
    {
      "cell_type": "code",
      "metadata": {
        "colab": {
          "base_uri": "https://localhost:8080/"
        },
        "id": "lPzRwDoHEW6r",
        "outputId": "4898c70f-b8cb-469f-efdf-4647b60f3d01"
      },
      "source": [
        "root"
      ],
      "execution_count": 18,
      "outputs": [
        {
          "output_type": "execute_result",
          "data": {
            "text/plain": [
              "Node val is 0"
            ]
          },
          "metadata": {
            "tags": []
          },
          "execution_count": 18
        }
      ]
    },
    {
      "cell_type": "code",
      "metadata": {
        "id": "qXEutVDiTJeA"
      },
      "source": [
        ""
      ],
      "execution_count": null,
      "outputs": []
    }
  ]
}